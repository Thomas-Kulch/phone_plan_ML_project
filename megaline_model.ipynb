{
 "cells": [
  {
   "cell_type": "markdown",
   "metadata": {},
   "source": [
    "Introduction to Machine Learning"
   ]
  },
  {
   "cell_type": "markdown",
   "metadata": {},
   "source": [
    "## Introduction"
   ]
  },
  {
   "cell_type": "markdown",
   "metadata": {},
   "source": [
    "<div style=\"border-radius: 15px; border: 3px solid skyblue; padding: 15px;\">\n",
    "    \n",
    "The task:\n",
    "    \n",
    "    - Mobile carrier Megaline has found out that many of their subscribers use legacy plans. They want to develop a model that would analyze subscribers' behavior and recommend one of Megaline's newer plans: Smart or Ultra. \n",
    "\n",
    "I have behavior data about subscribers who have already switched to the new plans. I will need to use classification to develop a model that will pick the right plan."
   ]
  },
  {
   "cell_type": "code",
   "execution_count": 17,
   "metadata": {},
   "outputs": [],
   "source": [
    "#import libraries\n",
    "import pandas as pd\n",
    "import numpy as np\n",
    "import matplotlib.pyplot as plt\n",
    "\n",
    "from sklearn.metrics import accuracy_score, classification_report\n",
    "from sklearn.model_selection import train_test_split, cross_val_score\n",
    "\n",
    "from sklearn.tree import DecisionTreeClassifier\n",
    "\n",
    "from sklearn.ensemble import RandomForestClassifier\n",
    "\n",
    "from sklearn.linear_model import LogisticRegression\n",
    "\n",
    "import warnings\n",
    "warnings.filterwarnings('ignore')"
   ]
  },
  {
   "cell_type": "markdown",
   "metadata": {},
   "source": [
    "### Read data and Analyze"
   ]
  },
  {
   "cell_type": "code",
   "execution_count": 2,
   "metadata": {},
   "outputs": [],
   "source": [
    "#read data and analyze\n",
    "df = pd.read_csv('/datasets/users_behavior.csv')"
   ]
  },
  {
   "cell_type": "markdown",
   "metadata": {},
   "source": [
    "#### Data Description\n",
    "\n",
    "сalls — number of calls\n",
    "\n",
    "minutes — total call duration in minutes\n",
    "\n",
    "messages — number of text messages\n",
    "\n",
    "mb_used — Internet traffic used in MB\n",
    "\n",
    "is_ultra — plan for the current month (Ultra - 1, Smart - 0)"
   ]
  },
  {
   "cell_type": "code",
   "execution_count": 3,
   "metadata": {},
   "outputs": [
    {
     "name": "stdout",
     "output_type": "stream",
     "text": [
      "<class 'pandas.core.frame.DataFrame'>\n",
      "RangeIndex: 3214 entries, 0 to 3213\n",
      "Data columns (total 5 columns):\n",
      " #   Column    Non-Null Count  Dtype  \n",
      "---  ------    --------------  -----  \n",
      " 0   calls     3214 non-null   float64\n",
      " 1   minutes   3214 non-null   float64\n",
      " 2   messages  3214 non-null   float64\n",
      " 3   mb_used   3214 non-null   float64\n",
      " 4   is_ultra  3214 non-null   int64  \n",
      "dtypes: float64(4), int64(1)\n",
      "memory usage: 125.7 KB\n"
     ]
    }
   ],
   "source": [
    "# check the dataframe for missing values or data types that need to be changed\n",
    "df.info()"
   ]
  },
  {
   "cell_type": "code",
   "execution_count": 4,
   "metadata": {},
   "outputs": [
    {
     "data": {
      "text/html": [
       "<div>\n",
       "<style scoped>\n",
       "    .dataframe tbody tr th:only-of-type {\n",
       "        vertical-align: middle;\n",
       "    }\n",
       "\n",
       "    .dataframe tbody tr th {\n",
       "        vertical-align: top;\n",
       "    }\n",
       "\n",
       "    .dataframe thead th {\n",
       "        text-align: right;\n",
       "    }\n",
       "</style>\n",
       "<table border=\"1\" class=\"dataframe\">\n",
       "  <thead>\n",
       "    <tr style=\"text-align: right;\">\n",
       "      <th></th>\n",
       "      <th>calls</th>\n",
       "      <th>minutes</th>\n",
       "      <th>messages</th>\n",
       "      <th>mb_used</th>\n",
       "      <th>is_ultra</th>\n",
       "    </tr>\n",
       "  </thead>\n",
       "  <tbody>\n",
       "  </tbody>\n",
       "</table>\n",
       "</div>"
      ],
      "text/plain": [
       "Empty DataFrame\n",
       "Columns: [calls, minutes, messages, mb_used, is_ultra]\n",
       "Index: []"
      ]
     },
     "execution_count": 4,
     "metadata": {},
     "output_type": "execute_result"
    }
   ],
   "source": [
    "#check for duplicates\n",
    "df[df.duplicated()]"
   ]
  },
  {
   "cell_type": "markdown",
   "metadata": {},
   "source": [
    "#### <span style=\"color:skyblue\">Observations</span>\n",
    "<div style=\"border-radius: 15px; border: 3px solid skyblue; padding: 15px;\">\n",
    "This dataset has been cleaned in another project and there are no missing values, incorrect data types, or duplicates. \n",
    "    \n",
    "The data is ready to be used in a model."
   ]
  },
  {
   "cell_type": "markdown",
   "metadata": {},
   "source": [
    "### Split data into Training, Test, and Validation sets"
   ]
  },
  {
   "cell_type": "markdown",
   "metadata": {},
   "source": [
    "<div style=\"border-radius: 15px; border: 3px solid skyblue; padding: 15px;\">\n",
    "    I'll be splitting the data into a 3:1:1 ratio. I want to leave a good size for the training set as it is already pretty small."
   ]
  },
  {
   "cell_type": "code",
   "execution_count": 5,
   "metadata": {},
   "outputs": [],
   "source": [
    "#the is_ultra field will be our target because we are trying to see if customers have the correct plan, with the rest being the features\n",
    "\n",
    "features = df.drop(['is_ultra'],axis=1)\n",
    "target = df['is_ultra']"
   ]
  },
  {
   "cell_type": "code",
   "execution_count": 6,
   "metadata": {},
   "outputs": [],
   "source": [
    "#split data into training and test\n",
    "features_train,features_test,target_train,target_test = train_test_split(features,target,\n",
    "                                                                         test_size=0.25,\n",
    "                                                                         random_state=12345)\n",
    "\n",
    "#split the previously split data into training and validation sets\n",
    "features_train,features_valid,target_train,target_valid = train_test_split(features_train,target_train,\n",
    "                                                                           test_size=0.25,\n",
    "                                                                           random_state=12345)"
   ]
  },
  {
   "cell_type": "markdown",
   "metadata": {},
   "source": [
    "### Setup models to Compare"
   ]
  },
  {
   "cell_type": "code",
   "execution_count": 7,
   "metadata": {},
   "outputs": [],
   "source": [
    "'''\n",
    "To determine the optimal Decision Tree model, I will create a function that will test out different hyperparameters like \n",
    "max_depth, _min_samples_split and min_samples_leaf and return the Decision Tree model that has the best accuracy.\n",
    "\n",
    "I will then compare the best Decision Tree model with the best models from the other two categories.\n",
    "\n",
    "The ideal min_samples_split values are between 2-40 and the ideal min_samples_leaf values are between 1-20\n",
    "\n",
    "'''\n",
    "\n",
    "\n",
    "def best_decision_tree(features_train,features_test,target_train,target_test):\n",
    "    best_model = None\n",
    "    best_result = 0\n",
    "    \n",
    "    for depth in range(1,11):\n",
    "        for split in range(2,41):\n",
    "            for leaf in range(1,21):\n",
    "                model = DecisionTreeClassifier(random_state=12345,\n",
    "                                               max_depth=depth,\n",
    "                                               min_samples_split=split,\n",
    "                                               min_samples_leaf=leaf) # initiate the model to be tested\n",
    "                model.fit(features_train,target_train) # train the model\n",
    "                predictions = model.predict(features_test)\n",
    "                result = accuracy_score(target_test,predictions) # grab the accuracy score for each model to be compared\n",
    "                \n",
    "                if result > best_result:\n",
    "                    best_model = model\n",
    "                    best_result = result\n",
    "                    \n",
    "    return best_model, best_result"
   ]
  },
  {
   "cell_type": "code",
   "execution_count": 8,
   "metadata": {},
   "outputs": [],
   "source": [
    "#assign the model to a variable to be compared later\n",
    "best_decision_tree = best_decision_tree(features_train,features_test,target_train,target_test)"
   ]
  },
  {
   "cell_type": "code",
   "execution_count": 9,
   "metadata": {},
   "outputs": [],
   "source": [
    "'''\n",
    "Similar to the Decision Tree model, I will create a function that will test out different hyperparameters like \n",
    "n_estimators, max_depth, _min_samples_split and min_samples_leaf and return the Random Forest model that has the best accuracy.\n",
    "\n",
    "I will then compare the best Random Forest model with the best models from the other two categories.\n",
    "\n",
    "'''\n",
    "\n",
    "def best_random_forest(features_train,features_test,target_train,target_test):\n",
    "    best_model = None\n",
    "    best_result = 0\n",
    "    \n",
    "    for est in range(1,11):\n",
    "        for depth in range(1,6):\n",
    "            for split in range(2,21):\n",
    "                for leaf in range(1,11):\n",
    "                    model = RandomForestClassifier(random_state=12345,\n",
    "                                                   n_estimators=est,\n",
    "                                                   max_depth=depth,\n",
    "                                                   min_samples_split=split,\n",
    "                                                   min_samples_leaf=leaf)\n",
    "                    model.fit(features_train,target_train) # train the model\n",
    "                    predictions = model.predict(features_test)\n",
    "                    result = accuracy_score(target_test,predictions) # grab the accuracy score for each model to be compared\n",
    "                \n",
    "                    if result > best_result:\n",
    "                        best_model = model\n",
    "                        best_result = result\n",
    "                        \n",
    "    return best_model, best_result"
   ]
  },
  {
   "cell_type": "code",
   "execution_count": 10,
   "metadata": {},
   "outputs": [],
   "source": [
    "#assign the model to a variable to be compared later\n",
    "best_random_forest = best_random_forest(features_train,features_test,target_train,target_test)"
   ]
  },
  {
   "cell_type": "code",
   "execution_count": 11,
   "metadata": {},
   "outputs": [],
   "source": [
    "'''\n",
    "I will create a function that will test out different hyperparameters like \n",
    "solvers and C values and return the Logistic Regression model that has the best accuracy.\n",
    "\n",
    "I'm not including a penalty list in this because some values don't work with certain solvers.\n",
    "\n",
    "I will then compare the best Logistic Regression model with the best models from the other two categories.\n",
    "\n",
    "'''\n",
    "\n",
    "def best_logistic_regression(features_train,features_test,target_train,target_test):\n",
    "    best_model = None\n",
    "    best_score = 0\n",
    "    solver_list = ['newton-cg', 'lbfgs', 'liblinear', 'sag', 'saga']\n",
    "    c_list = [0.01,0.1,1,10,100]\n",
    "    \n",
    "    for c in c_list:\n",
    "        for solver in solver_list:\n",
    "            model = LogisticRegression(random_state=12345,solver=solver,penalty='l2',C=c)\n",
    "            model.fit(features_train,target_train)   \n",
    "            score_valid = model.score(features_test,target_test)  \n",
    "                \n",
    "            if score_valid > best_score:\n",
    "                best_model = model\n",
    "                best_score = score_valid\n",
    "                    \n",
    "    return best_model, best_score"
   ]
  },
  {
   "cell_type": "code",
   "execution_count": 12,
   "metadata": {
    "scrolled": true
   },
   "outputs": [
    {
     "data": {
      "text/plain": [
       "(DecisionTreeClassifier(max_depth=7, min_samples_leaf=11, random_state=12345),\n",
       " 0.7978227060653188)"
      ]
     },
     "metadata": {},
     "output_type": "display_data"
    },
    {
     "data": {
      "text/plain": [
       "(RandomForestClassifier(max_depth=5, min_samples_split=14, n_estimators=1,\n",
       "                        random_state=12345),\n",
       " 0.80248833592535)"
      ]
     },
     "metadata": {},
     "output_type": "display_data"
    },
    {
     "data": {
      "text/plain": [
       "(LogisticRegression(C=0.01, random_state=12345, solver='newton-cg'),\n",
       " 0.76049766718507)"
      ]
     },
     "metadata": {},
     "output_type": "display_data"
    }
   ],
   "source": [
    "#assign the model to a variable and display the models accuracies side by side and their optimal hyperparameters\n",
    "best_logistic_regression = best_logistic_regression(features_train,features_valid,target_valid,target_test)\n",
    "\n",
    "display(best_decision_tree) #The accuracy of the best Decision Tree model is 0.7978227060653188\n",
    "display(best_random_forest) #The accuracy of the best Random Forest model is 0.80248833592535\n",
    "display(best_logistic_regression) #The accuracy of the best Logistic Regression model is 0.7223300970873786"
   ]
  },
  {
   "cell_type": "markdown",
   "metadata": {},
   "source": [
    "#### <span style=\"color:skyblue\">Findings</span>\n",
    "<div style=\"border-radius: 15px; border: 3px solid skyblue; padding: 15px;\">\n",
    "    \n",
    "    After finding the best model for Decision Tree, Random Forest, and Logistic Regression, it looks like although the Random Forest is the slowest to run, it is a little more accurate than the Decision Tree and should be used as the model for this task.\n",
    "    \n",
    "    The best Logistic Regression model did not cross our accuracy threshold of 0.75 and should not be considered over the other two models."
   ]
  },
  {
   "cell_type": "code",
   "execution_count": 13,
   "metadata": {},
   "outputs": [
    {
     "data": {
      "text/plain": [
       "RandomForestClassifier(max_depth=5, min_samples_split=14, n_estimators=1,\n",
       "                       random_state=12345)"
      ]
     },
     "metadata": {},
     "output_type": "display_data"
    }
   ],
   "source": [
    "#split the model from it's accuracy value to use for quality check with validation set\n",
    "model, valid_accuracy = best_random_forest\n",
    "display(model)"
   ]
  },
  {
   "cell_type": "code",
   "execution_count": 14,
   "metadata": {},
   "outputs": [
    {
     "name": "stdout",
     "output_type": "stream",
     "text": [
      "Accuracy of Random Forest Model against Validation data set: 0.7669902912621359\n"
     ]
    }
   ],
   "source": [
    "#train the random forest model and test it's accuracy against the validation set\n",
    "model.fit(features_train,target_train)\n",
    "predictions = model.predict(features_test)\n",
    "test_accuracy = accuracy_score(predictions,target_test)\n",
    "\n",
    "print('Accuracy of Random Forest Model against Validation data set:',test_accuracy)"
   ]
  },
  {
   "cell_type": "markdown",
   "metadata": {},
   "source": [
    "#### <span style=\"color:skyblue\">Observations</span>\n",
    "<div style=\"border-radius: 15px; border: 3px solid skyblue; padding: 15px;\">\n",
    "    \n",
    "The accuracy of the Random Forest model against the validation dataset is lower than our test dataset, but still above our 0.75 threshold."
   ]
  },
  {
   "cell_type": "markdown",
   "metadata": {},
   "source": [
    "### Sanity Check"
   ]
  },
  {
   "cell_type": "code",
   "execution_count": 15,
   "metadata": {},
   "outputs": [
    {
     "name": "stdout",
     "output_type": "stream",
     "text": [
      "Cross-Validation Scores: [0.78398058 0.77615572 0.79805353 0.79075426 0.8053528 ]\n",
      "Average Cross-Validation Accuracy: 0.7908593768454869\n"
     ]
    }
   ],
   "source": [
    "'''\n",
    "I will use a cross validation  check on the Random Forest Classifier for the sanity check. I will also visualize\n",
    "the feature importance to see which features are most influential in making predictions.\n",
    "'''\n",
    "\n",
    "# Perform cross-validation to get average accuracy\n",
    "cv_scores = cross_val_score(model, features_train, target_train, cv=5)\n",
    "print(\"Cross-Validation Scores:\", cv_scores)\n",
    "print(\"Average Cross-Validation Accuracy:\", cv_scores.mean())"
   ]
  },
  {
   "cell_type": "code",
   "execution_count": 21,
   "metadata": {
    "scrolled": false
   },
   "outputs": [
    {
     "data": {
      "image/png": "[encoded data removed]",
      "text/plain": [
       "<Figure size 576x432 with 1 Axes>"
      ]
     },
     "metadata": {
      "needs_background": "light"
     },
     "output_type": "display_data"
    }
   ],
   "source": [
    "#Visualize feature importance to see which features are most influential in making predictions\n",
    "plt.figure(figsize=(8, 6))\n",
    "plt.barh(range(features.shape[1]), model.feature_importances_, align='center')\n",
    "plt.yticks(range(features.shape[1]),features.columns)\n",
    "plt.xlabel('Feature Importance')\n",
    "plt.ylabel('Feature')\n",
    "plt.title('Feature Importances')\n",
    "plt.show()"
   ]
  },
  {
   "cell_type": "markdown",
   "metadata": {},
   "source": [
    "#### <span style=\"color:skyblue\">Observations</span>\n",
    "<div style=\"border-radius: 15px; border: 3px solid skyblue; padding: 15px;\">\n",
    "    \n",
    "Based on our findings, a cross-validation mean of 79% means that, on average, the model correctly predicts the target variable for 79% of the samples across different cross-validation folds.\n",
    "\n",
    "While 79% is good and above our accuracy threshold, there is room for improvement in the model.\n",
    "\n",
    "We also find that in terms of features, minutes and mb_used are the most important features and are most influential in making predictions.\n",
    "\n",
    "Overall, an accuracy of 79% means that the model performs generally well on average."
   ]
  },
  {
   "cell_type": "markdown",
   "metadata": {},
   "source": [
    "## Conclusion"
   ]
  },
  {
   "cell_type": "markdown",
   "metadata": {},
   "source": [
    "<div style=\"border-radius: 15px; border: 3px solid skyblue; padding: 15px;\">\n",
    "    \n",
    "    - I tested 3 different classification models using the features, target, and validation datasets from the Megaline Mobile data.\n",
    "    \n",
    "    - While the Decision Tree and Random Forest models performed similarly, the Random Forest model slightly edged it out and the Logisitic Regression model did not come anywhere close in terms of accuracy.\n",
    "    \n",
    "    - I performed a sanity check on the Random Forest model and got a 79% average accuracy and found that the minutes and mb_used features are the most important and are most influential in making predictions for the model."
   ]
  },
  {
   "cell_type": "markdown",
   "metadata": {},
   "source": []
  }
 ],
 "metadata": {
  "kernelspec": {
   "display_name": "Python 3 (ipykernel)",
   "language": "python",
   "name": "python3"
  },
  "language_info": {
   "codemirror_mode": {
    "name": "ipython",
    "version": 3
   },
   "file_extension": ".py",
   "mimetype": "text/x-python",
   "name": "python",
   "nbconvert_exporter": "python",
   "pygments_lexer": "ipython3",
   "version": "3.9.5"
  },
  "toc": {
   "base_numbering": 1,
   "nav_menu": {},
   "number_sections": true,
   "sideBar": true,
   "skip_h1_title": true,
   "title_cell": "Table of Contents",
   "title_sidebar": "Contents",
   "toc_cell": false,
   "toc_position": {},
   "toc_section_display": true,
   "toc_window_display": false
  }
 },
 "nbformat": 4,
 "nbformat_minor": 2
}
